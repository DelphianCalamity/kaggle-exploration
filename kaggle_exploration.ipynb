{
  "nbformat": 4,
  "nbformat_minor": 0,
  "metadata": {
    "colab": {
      "name": "kaggle exploration",
      "provenance": [],
      "collapsed_sections": [],
      "authorship_tag": "ABX9TyO03A9sLizy4ciUNe+CR23F",
      "include_colab_link": true
    },
    "kernelspec": {
      "name": "python3",
      "display_name": "Python 3"
    }
  },
  "cells": [
    {
      "cell_type": "markdown",
      "metadata": {
        "id": "view-in-github",
        "colab_type": "text"
      },
      "source": [
        "<a href=\"https://colab.research.google.com/github/DelphianCalamity/kaggle-exploration/blob/master/kaggle_exploration.ipynb\" target=\"_parent\"><img src=\"https://colab.research.google.com/assets/colab-badge.svg\" alt=\"Open In Colab\"/></a>"
      ]
    },
    {
      "cell_type": "code",
      "metadata": {
        "id": "X2XheBMO1I3D",
        "colab_type": "code",
        "colab": {}
      },
      "source": [
        "%%bash\n",
        "pip install kaggle\n",
        "\n",
        "kaggle_path=\"/root/.kaggle\"\n",
        "if [ ! -d ${kaggle_path} ]; then \n",
        "  mkdir ${kaggle_path}\n",
        "fi\n",
        "kaggle_config=${kaggle_path}\"/kaggle.json\"\n",
        "echo '''{\"username\":\"kk3440\",\"key\":\"017de95c899c3d681c325fb36cfff464\"}''' > ${kaggle_config}\n",
        "# chmod 600 ${kaggle_config}\n",
        "# kaggle config path -p kaggle_path"
      ],
      "execution_count": null,
      "outputs": []
    },
    {
      "cell_type": "markdown",
      "metadata": {
        "id": "7jEP0tvRAJQE",
        "colab_type": "text"
      },
      "source": [
        "Kaggle Python API: https://technowhisp.com/kaggle-api-python-documentation/\n",
        "\n"
      ]
    },
    {
      "cell_type": "code",
      "metadata": {
        "id": "oOq8eGv5_ntc",
        "colab_type": "code",
        "colab": {}
      },
      "source": [
        "from kaggle.api.kaggle_api_extended import KaggleApi\n",
        "import threading\n",
        "import os\n",
        "\n",
        "api = KaggleApi()\n",
        "api.authenticate()\n",
        "\n",
        "def download_notebooks(search=None, page_size=2, dataset= None, competition=None):\n",
        "  parent_dir = \"/content/notebooks\"\n",
        "  # Signature: \n",
        "  # kernels_list(page=1, page_size=20, dataset=None, competition=None,\n",
        "  #  parent_kernel=None, search=None, mine=False, user=None, language=None,\n",
        "  #  kernel_type=None, output_type=None, sort_by=None)\n",
        "  kernel_refs = []\n",
        "  kernels = api.kernels_list(search=search, page_size=page_size)\n",
        "  for kernel in kernels:\n",
        "    kernel_refs.append(kernel.ref)\n",
        "    log_path = os.path.join(parent_dir, kernel.ref, \"log\")\n",
        "    if not os.path.exists(log_path):\n",
        "      os.makedirs(log_path)\n",
        "    notebook_path = os.path.join(parent_dir, kernel.ref, \"notebook\")\n",
        "    if not os.path.exists(notebook_path):\n",
        "      os.makedirs(notebook_path)\n",
        "\n",
        "    api.kernels_output(kernel.ref, log_path, force=False, quiet=True)             # Yields the log file\n",
        "    api.kernels_pull(kernel.ref, path=notebook_path, metadata=True, quiet=True)   # Yields notebook & metadata\n",
        "\n",
        "  return kernel_refs"
      ],
      "execution_count": 3,
      "outputs": []
    },
    {
      "cell_type": "markdown",
      "metadata": {
        "id": "rL2-M9g7OSl4",
        "colab_type": "text"
      },
      "source": [
        "#### Downloading notebooks related to a search key (eg.  nlp, image, ..) and retrieving info"
      ]
    },
    {
      "cell_type": "code",
      "metadata": {
        "id": "DfQLaT-ZOF8p",
        "colab_type": "code",
        "colab": {}
      },
      "source": [
        "# api.kernels_list(search='nlp', page_size=2)\n",
        "\n",
        "def explore_notebooks(explore_func=None, search=None, page_size=5):\n",
        "  # api.kernels_list(search='nlp', page_size=2)\n",
        "  notebooks = download_notebooks(search, page_size)\n",
        "  print(notebooks)\n",
        "  explore_func(notebooks)\n"
      ],
      "execution_count": 6,
      "outputs": []
    },
    {
      "cell_type": "code",
      "metadata": {
        "id": "e9zRCfLoY5NG",
        "colab_type": "code",
        "colab": {
          "base_uri": "https://localhost:8080/",
          "height": 68
        },
        "outputId": "fe9dbe48-fae4-4210-e647-e95c1e5a8c3a"
      },
      "source": [
        "def explore_import_statements(notebooks):\n",
        "\n",
        "  for notebook in notebooks:\n",
        "    print(notebook)\n",
        "    # reading .ipynb and .log\n",
        "    # parsing them; dumping them to json\n",
        "    # derive info from them (libraries used etc)\n",
        "    # save/plot info\n",
        "\n",
        "explore_notebooks(explore_func=explore_import_statements, search='nlp', page_size=2)"
      ],
      "execution_count": 8,
      "outputs": [
        {
          "output_type": "stream",
          "text": [
            "['philculliton/nlp-getting-started-tutorial', 'abhishek/approaching-almost-any-nlp-problem-on-kaggle']\n",
            "philculliton/nlp-getting-started-tutorial\n",
            "abhishek/approaching-almost-any-nlp-problem-on-kaggle\n"
          ],
          "name": "stdout"
        }
      ]
    }
  ]
}